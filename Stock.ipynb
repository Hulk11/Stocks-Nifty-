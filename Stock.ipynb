{
  "nbformat": 4,
  "nbformat_minor": 0,
  "metadata": {
    "colab": {
      "name": "Stock.ipynb",
      "provenance": [],
      "collapsed_sections": [],
      "include_colab_link": true
    },
    "kernelspec": {
      "name": "python3",
      "display_name": "Python 3"
    }
  },
  "cells": [
    {
      "cell_type": "markdown",
      "metadata": {
        "id": "view-in-github",
        "colab_type": "text"
      },
      "source": [
        "<a href=\"https://colab.research.google.com/github/Hulk11/Stocks-Nifty-/blob/master/Stock.ipynb\" target=\"_parent\"><img src=\"https://colab.research.google.com/assets/colab-badge.svg\" alt=\"Open In Colab\"/></a>"
      ]
    },
    {
      "cell_type": "code",
      "metadata": {
        "id": "OsPmmERA2CHj",
        "colab_type": "code",
        "outputId": "78a6bb08-e763-4131-a221-fda762802b28",
        "colab": {
          "resources": {
            "http://localhost:8080/nbextensions/google.colab/files.js": {
              "data": "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",
              "ok": true,
              "headers": [
                [
                  "content-type",
                  "application/javascript"
                ]
              ],
              "status": 200,
              "status_text": ""
            }
          },
          "base_uri": "https://localhost:8080/",
          "height": 312
        }
      },
      "source": [
        "from google.colab import files\n",
        "uploaded = files.upload()\n",
        "#Importing libraries\n",
        "import numpy as np # linear algebra\n",
        "import pandas as pd # data processing, CSV file I/O (e.g. pd.read_csv)\n",
        "# Input data files are available in the \"../input/\" directory.\n",
        "import os\n",
        "import matplotlib.pyplot as plt#visualization\n",
        "from PIL import  Image\n",
        "%matplotlib inline\n",
        "import pandas as pd\n",
        "import seaborn as sns#visualization\n",
        "import itertools\n",
        "import warnings\n",
        "warnings.filterwarnings(\"ignore\")\n",
        "import io\n",
        "import plotly.offline as py#visualization\n",
        "py.init_notebook_mode(connected=True)#visualization\n",
        "import plotly.graph_objs as go#visualization\n",
        "import plotly.tools as tls#visualization\n",
        "import plotly.figure_factory as ff#visualization"
      ],
      "execution_count": 0,
      "outputs": [
        {
          "output_type": "display_data",
          "data": {
            "text/html": [
              "\n",
              "     <input type=\"file\" id=\"files-08d9e5be-39dd-43ed-8e5a-8605f9f67d02\" name=\"files[]\" multiple disabled />\n",
              "     <output id=\"result-08d9e5be-39dd-43ed-8e5a-8605f9f67d02\">\n",
              "      Upload widget is only available when the cell has been executed in the\n",
              "      current browser session. Please rerun this cell to enable.\n",
              "      </output>\n",
              "      <script src=\"/nbextensions/google.colab/files.js\"></script> "
            ],
            "text/plain": [
              "<IPython.core.display.HTML object>"
            ]
          },
          "metadata": {
            "tags": []
          }
        },
        {
          "output_type": "stream",
          "text": [
            "Saving DAXI.csv to DAXI.csv\n",
            "Saving DJIA 99-19.csv to DJIA 99-19.csv\n",
            "Saving FTSE.csv to FTSE.csv\n",
            "Saving hangseng 99-19.csv to hangseng 99-19.csv\n",
            "Saving nasdaq 99-19.csv to nasdaq 99-19.csv\n",
            "Saving Nifty2 07-19.csv to Nifty2 07-19.csv\n",
            "Saving nikkei 99-19.csv to nikkei 99-19.csv\n",
            "Saving SP500 99-19.csv to SP500 99-19.csv\n"
          ],
          "name": "stdout"
        },
        {
          "output_type": "display_data",
          "data": {
            "text/html": [
              "        <script type=\"text/javascript\">\n",
              "        window.PlotlyConfig = {MathJaxConfig: 'local'};\n",
              "        if (window.MathJax) {MathJax.Hub.Config({SVG: {font: \"STIX-Web\"}});}\n",
              "        if (typeof require !== 'undefined') {\n",
              "        require.undef(\"plotly\");\n",
              "        requirejs.config({\n",
              "            paths: {\n",
              "                'plotly': ['https://cdn.plot.ly/plotly-latest.min']\n",
              "            }\n",
              "        });\n",
              "        require(['plotly'], function(Plotly) {\n",
              "            window._Plotly = Plotly;\n",
              "        });\n",
              "        }\n",
              "        </script>\n",
              "        "
            ]
          },
          "metadata": {
            "tags": []
          }
        }
      ]
    },
    {
      "cell_type": "code",
      "metadata": {
        "id": "lvLPzSutcmh5",
        "colab_type": "code",
        "colab": {}
      },
      "source": [
        "stock_files = [\"Nifty2 07-19.csv\",\"DJIA 99-19.csv\",\"hangseng 99-19.csv\",\"nasdaq 99-19.csv\",\"nikkei 99-19.csv\",\"SP500 99-19.csv\",\"DAXI.csv\",\"FTSE.csv\"]\n",
        "stocks=[]\n",
        "for fil in stock_files:\n",
        "  stocks.append(pd.read_csv(fil))  "
      ],
      "execution_count": 0,
      "outputs": []
    },
    {
      "cell_type": "code",
      "metadata": {
        "id": "RoE-rtBN8_00",
        "colab_type": "code",
        "colab": {}
      },
      "source": [
        "stock_indices = {0:'nifty',1:'djia',2:'hangseng',3:'nasdaq',4:'nikkei',5:'sp500',6:'aux',7:'ftse'}\n"
      ],
      "execution_count": 0,
      "outputs": []
    },
    {
      "cell_type": "code",
      "metadata": {
        "id": "pFu_P-3cwABa",
        "colab_type": "code",
        "colab": {}
      },
      "source": [
        "# t = pd.read_csv(\"Nifty2 07-19.csv\")\n",
        "# t = t.drop(columns=[\"Open\",\"Shares Traded\",\"High\",\"Low\",\"Turnover (Rs. Cr)\"])\n",
        "# t['dif'] = t['Close'].diff(1)\n",
        "# t = t.drop(columns=[\"Close\"])\n",
        "# stocks[3] = t\n",
        "# stocks[3].head()\n",
        "# stocks[7][\"Close\"] = stocks[7][\"Open\"]\n",
        "\n",
        "# For Asian markets which starts just before Indian market\n",
        "stocks[4][\"Close\"] = stocks[4][\"Open\"]   # Japan\n",
        "stocks[2][\"Close\"] = stocks[2][\"Open\"]   # HK\n",
        "stocks[6][\"Close\"] = stocks[6][\"Open\"]   # Australia\n",
        "\n",
        "\n",
        "\n",
        "# Dropping irrelevant data\n",
        "stocks[0] = stocks[0].drop(columns=[\"Open\",\"Shares Traded\",\"High\",\"Low\",\"Turnover (Rs. Cr)\"])\n",
        "stocks[7] = stocks[7].drop(columns=[\"Open\",\"Vol.\",\"High\",\"Low\",\"Change %\"])\n",
        "for i in range(1,8):\n",
        "  if(i!=7):\n",
        "    stocks[i] = stocks[i].drop(columns=[\"Open\",\"High\",\"Low\",\"Adj Close\",\"Volume\"])\n",
        "# stocks[8] = stocks[8].drop(columns=[\"Open\",\"High\",\"Low\",\"Adj Close\",\"Volume\"])  "
      ],
      "execution_count": 0,
      "outputs": []
    },
    {
      "cell_type": "code",
      "metadata": {
        "id": "Ey4LhfBz2cXL",
        "colab_type": "code",
        "colab": {}
      },
      "source": [
        "\n",
        "for stock in stocks:\n",
        "  stock['Close'] = stock['Close'].replace([np.inf, -np.inf], np.nan)\n",
        "  "
      ],
      "execution_count": 0,
      "outputs": []
    },
    {
      "cell_type": "code",
      "metadata": {
        "id": "zie25YhBsVP7",
        "colab_type": "code",
        "colab": {}
      },
      "source": [
        "# stocks[4]['Close'] = stocks[4]['Close'].replace([np.inf, -np.inf], np.nan)\n",
        "# stocks[4]['Close'] = stocks[4]['Close'].fillna(stocks[4]['Close'].mode()[0])\n",
        "for stock in stocks:\n",
        "  stock['Close'] = stock['Close'].fillna(stock['Close'].median())\n",
        "# stocks[4]['Close'].mode()[0]"
      ],
      "execution_count": 0,
      "outputs": []
    },
    {
      "cell_type": "code",
      "metadata": {
        "id": "ri2I_HUsu4EM",
        "colab_type": "code",
        "colab": {}
      },
      "source": [
        "stocks[8].info()"
      ],
      "execution_count": 0,
      "outputs": []
    },
    {
      "cell_type": "code",
      "metadata": {
        "id": "hKUyV-ShgQMj",
        "colab_type": "code",
        "colab": {}
      },
      "source": [
        "# adding new feature with various deltas \n",
        "\n",
        "def build_data(delta):\n",
        "  stocks_1 = stocks\n",
        "\n",
        "  for k,v in stock_indices.items():\n",
        "#     print(v)\n",
        "    stocks_1[k][v] = stocks_1[k]['Close'].diff(delta)\n",
        "\n",
        "  # Normalization \n",
        "  i=0\n",
        "  for stock in stocks_1:\n",
        "    stock[stock_indices[i]] = (stock['Close'] - stock[stock_indices[i]])/stock[stock_indices[i]]\n",
        "    i = i+1  \n",
        "  for k,v in stock_indices.items():\n",
        "    stocks_1[k][v] = stocks_1[k][v].replace([np.inf, -np.inf], np.nan)\n",
        "    stocks_1[k][v] = stocks_1[k][v].fillna(stocks_1[k][v].median())\n",
        "\n",
        "  # Preparing train data \n",
        "  fin = pd.merge(stocks_1[0], stocks_1[1], on=\"Date\")\n",
        "  for i in range(1,7):\n",
        "    fin = pd.merge(fin, stocks_1[i+1], on=\"Date\")\n",
        "  fin = fin.drop(columns=['Close_x','Close_y','Date'])\n",
        "#   fin.info()  \n",
        "  return fin\n",
        "  "
      ],
      "execution_count": 0,
      "outputs": []
    },
    {
      "cell_type": "code",
      "metadata": {
        "id": "3SY_twQx61gg",
        "colab_type": "code",
        "colab": {}
      },
      "source": [
        "# # Adding new feature with delta = 30\n",
        "# delta = 30\n",
        "# stocks_30 = stocks\n",
        "\n",
        "# for k,v in stock_indices.items():\n",
        "#   print(v)\n",
        "#   stocks_30[k][v] = stocks_30[k]['Close'].diff(delta)\n",
        "\n",
        "# # Filling Nan values\n",
        "# for k,v in stock_indices.items():\n",
        "#   stocks_30[k][v] = stocks_30[k][v].fillna(stocks_30[k][v].median())  "
      ],
      "execution_count": 0,
      "outputs": []
    },
    {
      "cell_type": "code",
      "metadata": {
        "id": "O5jPx1y0ywTB",
        "colab_type": "code",
        "colab": {}
      },
      "source": [
        "# Filling null values with mean\n",
        "# for stock in stocks:\n",
        "#   stock = stock.fillna(stock['dif'].mean())\n",
        "\n",
        "# stocks[1] = stocks[1].fillna(stocks[1]['djia'].median())\n",
        "# stocks[3] = stocks[3].fillna(stocks[3]['nasdaq'].median())\n",
        "# stocks[2] = stocks[2].fillna(stocks[2]['hangseng'].median())\n",
        "# stocks[4] = stocks[4].fillna(stocks[4]['nikkei'].median())\n",
        "# stocks[5] = stocks[5].fillna(stocks[5]['sp500'].median())\n",
        "# for stock in stocks:\n",
        "#   stock = stock.replace([np.inf, -np.inf], np.nan)\n",
        "#   print()\n",
        "\n",
        "\n",
        "# stocks[0] = stocks[0].fillna(stocks[0]['nifty'].mean())"
      ],
      "execution_count": 0,
      "outputs": []
    },
    {
      "cell_type": "code",
      "metadata": {
        "id": "Kbb2cOWi8qky",
        "colab_type": "code",
        "outputId": "3dfa02da-3978-4ab4-cccb-ac1333c27eb3",
        "colab": {
          "base_uri": "https://localhost:8080/",
          "height": 153
        }
      },
      "source": [
        "# print(stocks[0]['nifty'].mean())\n",
        "stocks_30[0].info()"
      ],
      "execution_count": 0,
      "outputs": [
        {
          "output_type": "stream",
          "text": [
            "<class 'pandas.core.frame.DataFrame'>\n",
            "RangeIndex: 5124 entries, 0 to 5123\n",
            "Data columns (total 3 columns):\n",
            "Date     5124 non-null object\n",
            "Close    5124 non-null float64\n",
            "nifty    5124 non-null float64\n",
            "dtypes: float64(2), object(1)\n",
            "memory usage: 120.2+ KB\n"
          ],
          "name": "stdout"
        }
      ]
    },
    {
      "cell_type": "code",
      "metadata": {
        "id": "k9i5ntCM8qjh",
        "colab_type": "code",
        "colab": {}
      },
      "source": [
        "# Normalization \n",
        "i=0\n",
        "for stock in stocks_30:\n",
        "  stock[stock_indices[i]] = (stock['Close'] - stock[stock_indices[i]])/stock[stock_indices[i]]\n",
        "  i = i+1\n",
        "  "
      ],
      "execution_count": 0,
      "outputs": []
    },
    {
      "cell_type": "code",
      "metadata": {
        "id": "xEdnX_Dvqa9I",
        "colab_type": "code",
        "outputId": "da0fc443-a407-4e4d-9caa-856df9f96caa",
        "colab": {
          "base_uri": "https://localhost:8080/",
          "height": 85
        }
      },
      "source": [
        "for k,v in stock_indices.items():\n",
        "  stocks_30[k][v] = stocks_30[k][v].replace([np.inf, -np.inf], np.nan)\n",
        "  stocks_30[k][v] = stocks_30[k][v].fillna(stocks_30[k][v].median())\n",
        "#   stocks_30[k][v] = stocks_30[k][v].dropna()\n",
        "# stocks[4].isna().sum()  "
      ],
      "execution_count": 0,
      "outputs": [
        {
          "output_type": "execute_result",
          "data": {
            "text/plain": [
              "Date      0\n",
              "Close     0\n",
              "nikkei    0\n",
              "dtype: int64"
            ]
          },
          "metadata": {
            "tags": []
          },
          "execution_count": 46
        }
      ]
    },
    {
      "cell_type": "code",
      "metadata": {
        "id": "3LFMvPLXoSFs",
        "colab_type": "code",
        "colab": {}
      },
      "source": [
        "# Preparing train data \n",
        "# fin = pd.merge(stocks_30[0], stocks_30[1], on=\"Date\")\n",
        "\n",
        "# for i in range(1,7):\n",
        "#   fin = pd.merge(fin, stocks_30[i+1], on=\"Date\")  \n",
        "# fin = fin.drop(columns=['Close_x','Close_y','Date'])\n",
        "# fin.info()\n",
        "# print(build_data(30).info())\n",
        "# nifty.plot.line(x=\"Date\",y=\"dif\")"
      ],
      "execution_count": 0,
      "outputs": []
    },
    {
      "cell_type": "code",
      "metadata": {
        "id": "vbAfHiZZ4MKZ",
        "colab_type": "code",
        "colab": {}
      },
      "source": [
        "fin.head()"
      ],
      "execution_count": 0,
      "outputs": []
    },
    {
      "cell_type": "code",
      "metadata": {
        "id": "Ezq7Yax5dXC2",
        "colab_type": "code",
        "colab": {}
      },
      "source": [
        "# for st in stocks:\n",
        "#   dat = pd.read_csv(st)\n",
        "#   # djia.head()\n",
        "#   dat.plot.line(x=\"Date\",y=\"Close\",title=st)"
      ],
      "execution_count": 0,
      "outputs": []
    },
    {
      "cell_type": "code",
      "metadata": {
        "id": "gUpXy2xo49Xl",
        "colab_type": "code",
        "colab": {}
      },
      "source": [
        "fin.corr(method ='pearson')\n",
        "fin.info()\n",
        "# fin.plot.scatter(x=\"nifty\",y=\"nasdaq\")\n",
        "# import matplotlib.pyplot as plt\n",
        "# plt.matshow(fin.corr(method ='pearson'))\n",
        "# plt.show()"
      ],
      "execution_count": 0,
      "outputs": []
    },
    {
      "cell_type": "code",
      "metadata": {
        "id": "Ws8v3sc95mzu",
        "colab_type": "code",
        "outputId": "ea402a2d-c3ad-4ed7-8cad-2890ed86844b",
        "colab": {
          "base_uri": "https://localhost:8080/",
          "height": 204
        }
      },
      "source": [
        "# All Binary features \n",
        "fin_bin = fin\n",
        "# fin_bin = fin_bin.drop(columns=['Date'])\n",
        "fin_bin[fin_bin < 0] = 0\n",
        "# fin_bin[fin_bin == 0] = 1\n",
        "fin_bin[fin_bin > 0] = 1\n",
        "fin_bin.head()\n",
        "# fin_abs['nikkei']"
      ],
      "execution_count": 0,
      "outputs": [
        {
          "output_type": "execute_result",
          "data": {
            "text/html": [
              "<div>\n",
              "<style scoped>\n",
              "    .dataframe tbody tr th:only-of-type {\n",
              "        vertical-align: middle;\n",
              "    }\n",
              "\n",
              "    .dataframe tbody tr th {\n",
              "        vertical-align: top;\n",
              "    }\n",
              "\n",
              "    .dataframe thead th {\n",
              "        text-align: right;\n",
              "    }\n",
              "</style>\n",
              "<table border=\"1\" class=\"dataframe\">\n",
              "  <thead>\n",
              "    <tr style=\"text-align: right;\">\n",
              "      <th></th>\n",
              "      <th>nifty</th>\n",
              "      <th>djia</th>\n",
              "      <th>hangseng</th>\n",
              "      <th>nasdaq</th>\n",
              "      <th>nikkei</th>\n",
              "      <th>sp500</th>\n",
              "      <th>aux</th>\n",
              "      <th>ftse</th>\n",
              "    </tr>\n",
              "  </thead>\n",
              "  <tbody>\n",
              "    <tr>\n",
              "      <th>0</th>\n",
              "      <td>1.0</td>\n",
              "      <td>0.0</td>\n",
              "      <td>0.0</td>\n",
              "      <td>0.0</td>\n",
              "      <td>0.0</td>\n",
              "      <td>0.0</td>\n",
              "      <td>0.0</td>\n",
              "      <td>0.0</td>\n",
              "    </tr>\n",
              "    <tr>\n",
              "      <th>1</th>\n",
              "      <td>1.0</td>\n",
              "      <td>1.0</td>\n",
              "      <td>1.0</td>\n",
              "      <td>0.0</td>\n",
              "      <td>0.0</td>\n",
              "      <td>0.0</td>\n",
              "      <td>0.0</td>\n",
              "      <td>0.0</td>\n",
              "    </tr>\n",
              "    <tr>\n",
              "      <th>2</th>\n",
              "      <td>1.0</td>\n",
              "      <td>1.0</td>\n",
              "      <td>1.0</td>\n",
              "      <td>0.0</td>\n",
              "      <td>0.0</td>\n",
              "      <td>0.0</td>\n",
              "      <td>0.0</td>\n",
              "      <td>1.0</td>\n",
              "    </tr>\n",
              "    <tr>\n",
              "      <th>3</th>\n",
              "      <td>1.0</td>\n",
              "      <td>1.0</td>\n",
              "      <td>1.0</td>\n",
              "      <td>0.0</td>\n",
              "      <td>0.0</td>\n",
              "      <td>0.0</td>\n",
              "      <td>0.0</td>\n",
              "      <td>1.0</td>\n",
              "    </tr>\n",
              "    <tr>\n",
              "      <th>4</th>\n",
              "      <td>1.0</td>\n",
              "      <td>1.0</td>\n",
              "      <td>1.0</td>\n",
              "      <td>0.0</td>\n",
              "      <td>0.0</td>\n",
              "      <td>0.0</td>\n",
              "      <td>0.0</td>\n",
              "      <td>1.0</td>\n",
              "    </tr>\n",
              "  </tbody>\n",
              "</table>\n",
              "</div>"
            ],
            "text/plain": [
              "   nifty  djia  hangseng  nasdaq  nikkei  sp500  aux  ftse\n",
              "0    1.0   0.0       0.0     0.0     0.0    0.0  0.0   0.0\n",
              "1    1.0   1.0       1.0     0.0     0.0    0.0  0.0   0.0\n",
              "2    1.0   1.0       1.0     0.0     0.0    0.0  0.0   1.0\n",
              "3    1.0   1.0       1.0     0.0     0.0    0.0  0.0   1.0\n",
              "4    1.0   1.0       1.0     0.0     0.0    0.0  0.0   1.0"
            ]
          },
          "metadata": {
            "tags": []
          },
          "execution_count": 62
        }
      ]
    },
    {
      "cell_type": "code",
      "metadata": {
        "id": "U7E1WXowADUV",
        "colab_type": "code",
        "outputId": "a5ca7245-7603-4d1a-f3cf-96e546484f1f",
        "colab": {
          "base_uri": "https://localhost:8080/",
          "height": 297
        }
      },
      "source": [
        "fin_abs = build_data(1)\n",
        "\n",
        "fin_abs.corr()\n",
        "# fin_abs = fin_abs.drop(columns=['Date'])\n",
        "# fin_abs['nikkei'].mean()\n",
        "# fin_abs['nikkei'] = fin_abs['nikkei'].replace([np.inf, -np.inf], np.nan)\n",
        "# fin_abs['nikkei'] = fin_abs['nikkei'].fillna(stocks[1]['djia'].mode())"
      ],
      "execution_count": 0,
      "outputs": [
        {
          "output_type": "execute_result",
          "data": {
            "text/html": [
              "<div>\n",
              "<style scoped>\n",
              "    .dataframe tbody tr th:only-of-type {\n",
              "        vertical-align: middle;\n",
              "    }\n",
              "\n",
              "    .dataframe tbody tr th {\n",
              "        vertical-align: top;\n",
              "    }\n",
              "\n",
              "    .dataframe thead th {\n",
              "        text-align: right;\n",
              "    }\n",
              "</style>\n",
              "<table border=\"1\" class=\"dataframe\">\n",
              "  <thead>\n",
              "    <tr style=\"text-align: right;\">\n",
              "      <th></th>\n",
              "      <th>nifty</th>\n",
              "      <th>djia</th>\n",
              "      <th>hangseng</th>\n",
              "      <th>nasdaq</th>\n",
              "      <th>nikkei</th>\n",
              "      <th>sp500</th>\n",
              "      <th>aux</th>\n",
              "      <th>ftse</th>\n",
              "    </tr>\n",
              "  </thead>\n",
              "  <tbody>\n",
              "    <tr>\n",
              "      <th>nifty</th>\n",
              "      <td>1.000000</td>\n",
              "      <td>-0.002106</td>\n",
              "      <td>0.000572</td>\n",
              "      <td>-0.004343</td>\n",
              "      <td>-0.007434</td>\n",
              "      <td>0.013070</td>\n",
              "      <td>0.001328</td>\n",
              "      <td>0.002453</td>\n",
              "    </tr>\n",
              "    <tr>\n",
              "      <th>djia</th>\n",
              "      <td>-0.002106</td>\n",
              "      <td>1.000000</td>\n",
              "      <td>0.000277</td>\n",
              "      <td>-0.000180</td>\n",
              "      <td>0.000640</td>\n",
              "      <td>-0.000201</td>\n",
              "      <td>0.000958</td>\n",
              "      <td>-0.001270</td>\n",
              "    </tr>\n",
              "    <tr>\n",
              "      <th>hangseng</th>\n",
              "      <td>0.000572</td>\n",
              "      <td>0.000277</td>\n",
              "      <td>1.000000</td>\n",
              "      <td>0.000916</td>\n",
              "      <td>0.006239</td>\n",
              "      <td>0.000237</td>\n",
              "      <td>0.001673</td>\n",
              "      <td>0.000385</td>\n",
              "    </tr>\n",
              "    <tr>\n",
              "      <th>nasdaq</th>\n",
              "      <td>-0.004343</td>\n",
              "      <td>-0.000180</td>\n",
              "      <td>0.000916</td>\n",
              "      <td>1.000000</td>\n",
              "      <td>0.003506</td>\n",
              "      <td>-0.002079</td>\n",
              "      <td>0.007296</td>\n",
              "      <td>0.003391</td>\n",
              "    </tr>\n",
              "    <tr>\n",
              "      <th>nikkei</th>\n",
              "      <td>-0.007434</td>\n",
              "      <td>0.000640</td>\n",
              "      <td>0.006239</td>\n",
              "      <td>0.003506</td>\n",
              "      <td>1.000000</td>\n",
              "      <td>0.000063</td>\n",
              "      <td>0.004472</td>\n",
              "      <td>0.005075</td>\n",
              "    </tr>\n",
              "    <tr>\n",
              "      <th>sp500</th>\n",
              "      <td>0.013070</td>\n",
              "      <td>-0.000201</td>\n",
              "      <td>0.000237</td>\n",
              "      <td>-0.002079</td>\n",
              "      <td>0.000063</td>\n",
              "      <td>1.000000</td>\n",
              "      <td>0.005766</td>\n",
              "      <td>-0.004314</td>\n",
              "    </tr>\n",
              "    <tr>\n",
              "      <th>aux</th>\n",
              "      <td>0.001328</td>\n",
              "      <td>0.000958</td>\n",
              "      <td>0.001673</td>\n",
              "      <td>0.007296</td>\n",
              "      <td>0.004472</td>\n",
              "      <td>0.005766</td>\n",
              "      <td>1.000000</td>\n",
              "      <td>-0.002074</td>\n",
              "    </tr>\n",
              "    <tr>\n",
              "      <th>ftse</th>\n",
              "      <td>0.002453</td>\n",
              "      <td>-0.001270</td>\n",
              "      <td>0.000385</td>\n",
              "      <td>0.003391</td>\n",
              "      <td>0.005075</td>\n",
              "      <td>-0.004314</td>\n",
              "      <td>-0.002074</td>\n",
              "      <td>1.000000</td>\n",
              "    </tr>\n",
              "  </tbody>\n",
              "</table>\n",
              "</div>"
            ],
            "text/plain": [
              "             nifty      djia  hangseng  ...     sp500       aux      ftse\n",
              "nifty     1.000000 -0.002106  0.000572  ...  0.013070  0.001328  0.002453\n",
              "djia     -0.002106  1.000000  0.000277  ... -0.000201  0.000958 -0.001270\n",
              "hangseng  0.000572  0.000277  1.000000  ...  0.000237  0.001673  0.000385\n",
              "nasdaq   -0.004343 -0.000180  0.000916  ... -0.002079  0.007296  0.003391\n",
              "nikkei   -0.007434  0.000640  0.006239  ...  0.000063  0.004472  0.005075\n",
              "sp500     0.013070 -0.000201  0.000237  ...  1.000000  0.005766 -0.004314\n",
              "aux       0.001328  0.000958  0.001673  ...  0.005766  1.000000 -0.002074\n",
              "ftse      0.002453 -0.001270  0.000385  ... -0.004314 -0.002074  1.000000\n",
              "\n",
              "[8 rows x 8 columns]"
            ]
          },
          "metadata": {
            "tags": []
          },
          "execution_count": 61
        }
      ]
    },
    {
      "cell_type": "code",
      "metadata": {
        "id": "mkW0_xn_7RpC",
        "colab_type": "code",
        "colab": {}
      },
      "source": [
        "from sklearn.model_selection import train_test_split\n",
        "from sklearn.linear_model import LogisticRegression\n",
        "from sklearn.model_selection import cross_val_score\n",
        "from sklearn.model_selection import cross_val_predict\n",
        "from sklearn.ensemble import RandomForestClassifier\n",
        "from sklearn import metrics\n",
        "from sklearn.neighbors import KNeighborsClassifier\n",
        "from xgboost import XGBClassifier\n",
        "from sklearn import svm\n",
        "import statistics"
      ],
      "execution_count": 0,
      "outputs": []
    },
    {
      "cell_type": "code",
      "metadata": {
        "id": "2iWse7dfw06n",
        "colab_type": "code",
        "colab": {}
      },
      "source": [
        "## Train and Test data\n",
        "# data - set the training data\n",
        "# output - the feature you want to predict\n",
        "# include - the features you want to include while prediction\n",
        "def train_test(data,output,include):\n",
        "  y = data[output]\n",
        "  type(y)\n",
        "  y = y.mask(y>0,1)\n",
        "  y = y.mask(y<0,0)\n",
        "#   train = fin_abs.drop(columns = [\"nifty\",\"ftse\",\"nikkei\"])\n",
        "#   exclude.append(output)\n",
        "  train = data.drop(columns = [output])\n",
        "  train = train[include]\n",
        "  print(type(train))\n",
        "#   print(train.head())\n",
        "  return train_test_split(train, y, test_size=0.35, random_state=42)\n",
        "\n",
        "\n",
        "# X_train, X_test, Y_train, y_test = train_test(fin_abs,\"nifty\",[\"nasdaq\"])\n",
        "# df.replace([np.inf, -np.inf], np.nan)\n",
        "# X_train.info()"
      ],
      "execution_count": 0,
      "outputs": []
    },
    {
      "cell_type": "code",
      "metadata": {
        "id": "vCP-KbKYdOwp",
        "colab_type": "code",
        "colab": {}
      },
      "source": [
        "score_set = pd.DataFrame(columns=['Feature', 'LogisticRegression', 'Random Forest','KNN','XGBoost','SVM'])\n",
        "count = 0"
      ],
      "execution_count": 0,
      "outputs": []
    },
    {
      "cell_type": "code",
      "metadata": {
        "id": "AIkGV-rjv7gz",
        "colab_type": "code",
        "colab": {}
      },
      "source": [
        "\n",
        "def store_scores(train_data,feature,label,data,counter):\n",
        "#   global count\n",
        "  temp_score_list = []\n",
        "\n",
        "  # Creating test-train data split\n",
        "  X_train, X_test, Y_train, y_test = train_test(train_data,\"nifty\",feature)\n",
        "  \n",
        "  \n",
        "  # Predictions using various classifiers and storing the best one for each case\n",
        "  logreg = LogisticRegression()\n",
        "  logreg.fit(X_train,Y_train)\n",
        "  prediction = logreg.predict(X_test)\n",
        "  scores = cross_val_score(logreg, X_train, Y_train, cv=10,scoring='accuracy')\n",
        "  # print (\"Logistic Regression: %.2f%%\" % (metrics.accuracy_score(y_test, prediction)*100.0))\n",
        "#   temp_score_list.append(metrics.accuracy_score(y_test, prediction))\n",
        "  temp_score_list.append(statistics.mean(scores))\n",
        "  \n",
        "  \n",
        "  \n",
        "  rf = RandomForestClassifier(n_estimators=30,criterion='entropy',max_depth=10)\n",
        "  rf.fit(X_train,Y_train)\n",
        "  ypred = rf.predict(X_test)\n",
        "  scores = cross_val_score(rf, X_train, Y_train, cv=10,scoring='accuracy')\n",
        "\n",
        "  # print (\"Random Forest: %.2f%%\" % (metrics.accuracy_score(y_test,ypred )*100.0))\n",
        "#   temp_score_list.append(metrics.accuracy_score(y_test, ypred))\n",
        "  temp_score_list.append(statistics.mean(scores))\n",
        "  \n",
        "  \n",
        "  knn = KNeighborsClassifier(n_neighbors=12)\n",
        "  knn.fit(X_train, Y_train)\n",
        "  y_pred = knn.predict(X_test)\n",
        "  scores = cross_val_score(knn, X_train, Y_train, cv=10,scoring='accuracy')\n",
        "  \n",
        "  # print (\"KNN: %.2f%%\" % (metrics.accuracy_score(y_test,y_pred)*100.0))\n",
        "#   temp_score_list.append(metrics.accuracy_score(y_test, y_pred))\n",
        "  temp_score_list.append(statistics.mean(scores))\n",
        "  \n",
        "  \n",
        "  model = XGBClassifier()\n",
        "  model.fit(X_train, Y_train)\n",
        "  y_pred = model.predict(X_test)\n",
        "  # predictions = [round(value) for value in y_pred]\n",
        "  accuracy = metrics.accuracy_score(y_test, y_pred)\n",
        "  scores = cross_val_score(model, X_train, Y_train, cv=10,scoring='accuracy')\n",
        "  \n",
        "  # print(\"XGBoost Accuracy: %.2f%%\" % (accuracy * 100.0))\n",
        "#   temp_score_list.append(accuracy)\n",
        "  temp_score_list.append(statistics.mean(scores))\n",
        "  \n",
        "  \n",
        "  clf = svm.SVC(gamma='scale',decision_function_shape='ovo')\n",
        "  clf.fit(X_train, Y_train) \n",
        "  y_pred = clf.predict(X_test)\n",
        "  scores = cross_val_score(clf, X_train, Y_train, cv=10,scoring='accuracy')\n",
        "  \n",
        "  accuracy = metrics.accuracy_score(y_test, y_pred)\n",
        "#   temp_score_list.append(accuracy)\n",
        "  temp_score_list.append(statistics.mean(scores))\n",
        "  \n",
        "  \n",
        "  # Adding to score_set df:\n",
        "  data.loc[counter] = [label] + temp_score_list\n",
        "  counter+=1\n",
        "  \n",
        "  #   scores = cross_val_score(clf, X_train, Y_train, cv=10,scoring='accuracy')\n",
        "  # print(scores)\n",
        "  # print(\"SVM Accuracy: %.2f%%\" % (accuracy * 100.0))\n",
        "\n"
      ],
      "execution_count": 0,
      "outputs": []
    },
    {
      "cell_type": "code",
      "metadata": {
        "id": "hKTUbxC-df6D",
        "colab_type": "code",
        "colab": {}
      },
      "source": [
        "for k,v in stock_indices.items():\n",
        "  if(v!=\"nifty\"):\n",
        "    store_scores(build_data(30),[v],v,score_set,count)\n",
        "score_set"
      ],
      "execution_count": 0,
      "outputs": []
    },
    {
      "cell_type": "code",
      "metadata": {
        "id": "xz-JIycVk1Se",
        "colab_type": "code",
        "outputId": "d93a6cee-4b77-4c48-cc34-8db1e7fa16ee",
        "colab": {
          "base_uri": "https://localhost:8080/",
          "height": 473
        }
      },
      "source": [
        "ax = score_set.plot.bar(x='Feature', y='XGBoost', rot=0,figsize=(10,5))"
      ],
      "execution_count": 0,
      "outputs": [
        {
          "output_type": "stream",
          "text": [
            "    Feature  LogisticRegression  Random Forest       KNN   XGBoost       SVM\n",
            "0      djia            0.718837       0.718837  0.608726  0.718837  0.718837\n",
            "1  hangseng            0.744460       0.744460  0.744460  0.744460  0.744460\n",
            "2    nasdaq            0.703601       0.703601  0.609874  0.703601  0.703601\n",
            "3    nikkei            0.658587       0.658587  0.658587  0.658587  0.658587\n",
            "4     sp500            0.724377       0.724377  0.724377  0.724377  0.724377\n",
            "5       aux            0.729224       0.729224  0.729224  0.729224  0.729224\n",
            "6      ftse            0.608726       0.608726  0.608726  0.608726  0.608726\n"
          ],
          "name": "stdout"
        },
        {
          "output_type": "display_data",
          "data": {
            "image/png": "[encoded data removed]",
            "text/plain": [
              "<Figure size 720x360 with 1 Axes>"
            ]
          },
          "metadata": {
            "tags": []
          }
        }
      ]
    },
    {
      "cell_type": "code",
      "metadata": {
        "id": "hm4wAwE7pQtt",
        "colab_type": "code",
        "outputId": "ff2acda7-efa0-4eeb-ffc3-623214c68e98",
        "colab": {
          "base_uri": "https://localhost:8080/",
          "height": 1000
        }
      },
      "source": [
        "combined_score = pd.DataFrame(columns=['Delta Values', 'LogisticRegression', 'Random Forest','KNN','XGBoost','SVM'])\n",
        "deltas = [1,10,20,30,40,50]\n",
        "i=0\n",
        "for delta in deltas:\n",
        "  store_scores(build_data(delta),[\"nasdaq\",\"ftse\",\"hangseng\",\"aux\",\"nikkei\",\"sp500\",\"djia\"],\"Delta\"+str(delta),combined_score,i)\n",
        "  i+=1\n",
        "combined_score"
      ],
      "execution_count": 0,
      "outputs": [
        {
          "output_type": "stream",
          "text": [
            "nifty\n",
            "djia\n",
            "hangseng\n",
            "nasdaq\n",
            "nikkei\n",
            "sp500\n",
            "aux\n",
            "ftse\n",
            "<class 'pandas.core.frame.DataFrame'>\n",
            "Int64Index: 4124 entries, 0 to 4123\n",
            "Data columns (total 8 columns):\n",
            "nifty       4124 non-null float64\n",
            "djia        4124 non-null float64\n",
            "hangseng    4124 non-null float64\n",
            "nasdaq      4124 non-null float64\n",
            "nikkei      4124 non-null float64\n",
            "sp500       4124 non-null float64\n",
            "aux         4124 non-null float64\n",
            "ftse        4124 non-null float64\n",
            "dtypes: float64(8)\n",
            "memory usage: 290.0 KB\n",
            "<class 'pandas.core.frame.DataFrame'>\n",
            "nifty\n",
            "djia\n",
            "hangseng\n",
            "nasdaq\n",
            "nikkei\n",
            "sp500\n",
            "aux\n",
            "ftse\n",
            "<class 'pandas.core.frame.DataFrame'>\n",
            "Int64Index: 4124 entries, 0 to 4123\n",
            "Data columns (total 8 columns):\n",
            "nifty       4124 non-null float64\n",
            "djia        4124 non-null float64\n",
            "hangseng    4124 non-null float64\n",
            "nasdaq      4124 non-null float64\n",
            "nikkei      4124 non-null float64\n",
            "sp500       4124 non-null float64\n",
            "aux         4124 non-null float64\n",
            "ftse        4124 non-null float64\n",
            "dtypes: float64(8)\n",
            "memory usage: 290.0 KB\n",
            "<class 'pandas.core.frame.DataFrame'>\n",
            "nifty\n",
            "djia\n",
            "hangseng\n",
            "nasdaq\n",
            "nikkei\n",
            "sp500\n",
            "aux\n",
            "ftse\n",
            "<class 'pandas.core.frame.DataFrame'>\n",
            "Int64Index: 4124 entries, 0 to 4123\n",
            "Data columns (total 8 columns):\n",
            "nifty       4124 non-null float64\n",
            "djia        4124 non-null float64\n",
            "hangseng    4124 non-null float64\n",
            "nasdaq      4124 non-null float64\n",
            "nikkei      4124 non-null float64\n",
            "sp500       4124 non-null float64\n",
            "aux         4124 non-null float64\n",
            "ftse        4124 non-null float64\n",
            "dtypes: float64(8)\n",
            "memory usage: 290.0 KB\n",
            "<class 'pandas.core.frame.DataFrame'>\n",
            "nifty\n",
            "djia\n",
            "hangseng\n",
            "nasdaq\n",
            "nikkei\n",
            "sp500\n",
            "aux\n",
            "ftse\n",
            "<class 'pandas.core.frame.DataFrame'>\n",
            "Int64Index: 4124 entries, 0 to 4123\n",
            "Data columns (total 8 columns):\n",
            "nifty       4124 non-null float64\n",
            "djia        4124 non-null float64\n",
            "hangseng    4124 non-null float64\n",
            "nasdaq      4124 non-null float64\n",
            "nikkei      4124 non-null float64\n",
            "sp500       4124 non-null float64\n",
            "aux         4124 non-null float64\n",
            "ftse        4124 non-null float64\n",
            "dtypes: float64(8)\n",
            "memory usage: 290.0 KB\n",
            "<class 'pandas.core.frame.DataFrame'>\n",
            "nifty\n",
            "djia\n",
            "hangseng\n",
            "nasdaq\n",
            "nikkei\n",
            "sp500\n",
            "aux\n",
            "ftse\n",
            "<class 'pandas.core.frame.DataFrame'>\n",
            "Int64Index: 4124 entries, 0 to 4123\n",
            "Data columns (total 8 columns):\n",
            "nifty       4124 non-null float64\n",
            "djia        4124 non-null float64\n",
            "hangseng    4124 non-null float64\n",
            "nasdaq      4124 non-null float64\n",
            "nikkei      4124 non-null float64\n",
            "sp500       4124 non-null float64\n",
            "aux         4124 non-null float64\n",
            "ftse        4124 non-null float64\n",
            "dtypes: float64(8)\n",
            "memory usage: 290.0 KB\n",
            "<class 'pandas.core.frame.DataFrame'>\n",
            "nifty\n",
            "djia\n",
            "hangseng\n",
            "nasdaq\n",
            "nikkei\n",
            "sp500\n",
            "aux\n",
            "ftse\n",
            "<class 'pandas.core.frame.DataFrame'>\n",
            "Int64Index: 4124 entries, 0 to 4123\n",
            "Data columns (total 8 columns):\n",
            "nifty       4124 non-null float64\n",
            "djia        4124 non-null float64\n",
            "hangseng    4124 non-null float64\n",
            "nasdaq      4124 non-null float64\n",
            "nikkei      4124 non-null float64\n",
            "sp500       4124 non-null float64\n",
            "aux         4124 non-null float64\n",
            "ftse        4124 non-null float64\n",
            "dtypes: float64(8)\n",
            "memory usage: 290.0 KB\n",
            "<class 'pandas.core.frame.DataFrame'>\n"
          ],
          "name": "stdout"
        },
        {
          "output_type": "execute_result",
          "data": {
            "text/html": [
              "<div>\n",
              "<style scoped>\n",
              "    .dataframe tbody tr th:only-of-type {\n",
              "        vertical-align: middle;\n",
              "    }\n",
              "\n",
              "    .dataframe tbody tr th {\n",
              "        vertical-align: top;\n",
              "    }\n",
              "\n",
              "    .dataframe thead th {\n",
              "        text-align: right;\n",
              "    }\n",
              "</style>\n",
              "<table border=\"1\" class=\"dataframe\">\n",
              "  <thead>\n",
              "    <tr style=\"text-align: right;\">\n",
              "      <th></th>\n",
              "      <th>Delta Values</th>\n",
              "      <th>LogisticRegression</th>\n",
              "      <th>Random Forest</th>\n",
              "      <th>KNN</th>\n",
              "      <th>XGBoost</th>\n",
              "      <th>SVM</th>\n",
              "    </tr>\n",
              "  </thead>\n",
              "  <tbody>\n",
              "    <tr>\n",
              "      <th>0</th>\n",
              "      <td>Delta1</td>\n",
              "      <td>0.497922</td>\n",
              "      <td>0.597645</td>\n",
              "      <td>0.554017</td>\n",
              "      <td>0.610111</td>\n",
              "      <td>0.501385</td>\n",
              "    </tr>\n",
              "    <tr>\n",
              "      <th>1</th>\n",
              "      <td>Delta10</td>\n",
              "      <td>0.612188</td>\n",
              "      <td>0.738920</td>\n",
              "      <td>0.671053</td>\n",
              "      <td>0.740305</td>\n",
              "      <td>0.612188</td>\n",
              "    </tr>\n",
              "    <tr>\n",
              "      <th>2</th>\n",
              "      <td>Delta20</td>\n",
              "      <td>0.592105</td>\n",
              "      <td>0.774931</td>\n",
              "      <td>0.711219</td>\n",
              "      <td>0.745152</td>\n",
              "      <td>0.592798</td>\n",
              "    </tr>\n",
              "    <tr>\n",
              "      <th>3</th>\n",
              "      <td>Delta30</td>\n",
              "      <td>0.608726</td>\n",
              "      <td>0.795706</td>\n",
              "      <td>0.715374</td>\n",
              "      <td>0.782548</td>\n",
              "      <td>0.610111</td>\n",
              "    </tr>\n",
              "    <tr>\n",
              "      <th>4</th>\n",
              "      <td>Delta40</td>\n",
              "      <td>0.619114</td>\n",
              "      <td>0.822715</td>\n",
              "      <td>0.768698</td>\n",
              "      <td>0.801247</td>\n",
              "      <td>0.614958</td>\n",
              "    </tr>\n",
              "    <tr>\n",
              "      <th>5</th>\n",
              "      <td>Delta50</td>\n",
              "      <td>0.624654</td>\n",
              "      <td>0.829640</td>\n",
              "      <td>0.747922</td>\n",
              "      <td>0.795706</td>\n",
              "      <td>0.626039</td>\n",
              "    </tr>\n",
              "  </tbody>\n",
              "</table>\n",
              "</div>"
            ],
            "text/plain": [
              "  Delta Values  LogisticRegression  Random Forest       KNN   XGBoost       SVM\n",
              "0       Delta1            0.497922       0.597645  0.554017  0.610111  0.501385\n",
              "1      Delta10            0.612188       0.738920  0.671053  0.740305  0.612188\n",
              "2      Delta20            0.592105       0.774931  0.711219  0.745152  0.592798\n",
              "3      Delta30            0.608726       0.795706  0.715374  0.782548  0.610111\n",
              "4      Delta40            0.619114       0.822715  0.768698  0.801247  0.614958\n",
              "5      Delta50            0.624654       0.829640  0.747922  0.795706  0.626039"
            ]
          },
          "metadata": {
            "tags": []
          },
          "execution_count": 88
        }
      ]
    },
    {
      "cell_type": "code",
      "metadata": {
        "id": "_kquyoty1V2D",
        "colab_type": "code",
        "outputId": "39a0d47e-e22c-4e2c-bfc1-4ecb77763eaa",
        "colab": {
          "base_uri": "https://localhost:8080/",
          "height": 354
        }
      },
      "source": [
        "combined_score.plot.line(x=\"Delta Values\",figsize=(8,5))"
      ],
      "execution_count": 0,
      "outputs": [
        {
          "output_type": "execute_result",
          "data": {
            "text/plain": [
              "<matplotlib.axes._subplots.AxesSubplot at 0x7f69633c7a90>"
            ]
          },
          "metadata": {
            "tags": []
          },
          "execution_count": 90
        },
        {
          "output_type": "display_data",
          "data": {
            "image/png": "[encoded data removed]",
            "text/plain": [
              "<Figure size 576x360 with 1 Axes>"
            ]
          },
          "metadata": {
            "tags": []
          }
        }
      ]
    },
    {
      "cell_type": "code",
      "metadata": {
        "id": "b1l-ixe89LC7",
        "colab_type": "code",
        "colab": {}
      },
      "source": [
        "# Ensemble Stacking\n",
        "X_train, X_test, Y_train, y_test = train_test(build_data(30),\"nifty\",feature) \n",
        "rfc = RandomForestClassifier(n_estimators=30,criterion='entropy',max_depth=10)\n",
        "logreg = LogisticRegression()\n",
        "knn = KNeighborsClassifier(n_neighbors=12)\n",
        "xgb = XGBClassifier()\n",
        "clf = svm.SVC(gamma='scale',decision_function_shape='ovo')\n"
      ],
      "execution_count": 0,
      "outputs": []
    },
    {
      "cell_type": "code",
      "metadata": {
        "id": "vE5r8MLe77LP",
        "colab_type": "code",
        "outputId": "89188ffc-d992-465f-b9f0-ce47fac7e231",
        "colab": {
          "base_uri": "https://localhost:8080/",
          "height": 34
        }
      },
      "source": [
        "\n",
        "rf = RandomForestClassifier(n_estimators=30,criterion='entropy',max_depth=10)\n",
        "rf.fit(X_train,Y_train)\n",
        "ypred = rf.predict(X_test)\n",
        "print (\"Random Forest: %.2f%%\" % (metrics.accuracy_score(y_test,ypred )*100.0))"
      ],
      "execution_count": 0,
      "outputs": [
        {
          "output_type": "stream",
          "text": [
            "Random Forest: 69.86%\n"
          ],
          "name": "stdout"
        }
      ]
    },
    {
      "cell_type": "code",
      "metadata": {
        "id": "7tP21Mc78T1B",
        "colab_type": "code",
        "outputId": "20ecfd5c-2abe-48e7-9138-caad44a69e4d",
        "colab": {
          "base_uri": "https://localhost:8080/",
          "height": 34
        }
      },
      "source": [
        "\n",
        "knn = KNeighborsClassifier(n_neighbors=12)\n",
        "knn.fit(X_train, Y_train)\n",
        "y_pred = knn.predict(X_test)\n",
        "print (\"KNN: %.2f%%\" % (metrics.accuracy_score(y_test,y_pred)*100.0))\n",
        "# knn.score(X_test, y_test)"
      ],
      "execution_count": 0,
      "outputs": [
        {
          "output_type": "stream",
          "text": [
            "KNN: 70.29%\n"
          ],
          "name": "stdout"
        }
      ]
    },
    {
      "cell_type": "code",
      "metadata": {
        "id": "mgaazOui8Y7a",
        "colab_type": "code",
        "outputId": "c768e8c4-dc82-4941-dcce-9677734b1559",
        "colab": {
          "base_uri": "https://localhost:8080/",
          "height": 34
        }
      },
      "source": [
        "\n",
        "model = XGBClassifier()\n",
        "model.fit(X_train, Y_train)\n",
        "y_pred = model.predict(X_test)\n",
        "# predictions = [round(value) for value in y_pred]\n",
        "accuracy = metrics.accuracy_score(y_test, y_pred)\n",
        "print(\"XGBoost Accuracy: %.2f%%\" % (accuracy * 100.0))"
      ],
      "execution_count": 0,
      "outputs": [
        {
          "output_type": "stream",
          "text": [
            "XGBoost Accuracy: 70.58%\n"
          ],
          "name": "stdout"
        }
      ]
    },
    {
      "cell_type": "code",
      "metadata": {
        "id": "rjvrI3ibQamC",
        "colab_type": "code",
        "outputId": "4bc9e9e1-86c4-42fa-895f-45ea55e884d1",
        "colab": {
          "base_uri": "https://localhost:8080/",
          "height": 68
        }
      },
      "source": [
        "\n",
        "clf = svm.SVC(gamma='scale',decision_function_shape='ovo')\n",
        "clf.fit(X_train, Y_train) \n",
        "y_pred = clf.predict(X_test)\n",
        "accuracy = metrics.accuracy_score(y_test, y_pred)\n",
        "scores = cross_val_score(clf, X_train, Y_train, cv=10,scoring='accuracy')\n",
        "print(scores)\n",
        "print(\"SVM Accuracy: %.2f%%\" % (accuracy * 100.0))"
      ],
      "execution_count": 0,
      "outputs": [
        {
          "output_type": "stream",
          "text": [
            "[0.62162162 0.62162162 0.62162162 0.62403101 0.62403101 0.62403101\n",
            " 0.62015504 0.62403101 0.62256809 0.62256809]\n",
            "SVM Accuracy: 61.51%\n"
          ],
          "name": "stdout"
        }
      ]
    }
  ]
}